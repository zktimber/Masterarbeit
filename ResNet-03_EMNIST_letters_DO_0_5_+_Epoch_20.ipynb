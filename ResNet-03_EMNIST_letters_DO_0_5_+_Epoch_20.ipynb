{
  "nbformat": 4,
  "nbformat_minor": 0,
  "metadata": {
    "kernelspec": {
      "display_name": "Python 3",
      "language": "python",
      "name": "python3"
    },
    "language_info": {
      "codemirror_mode": {
        "name": "ipython",
        "version": 3
      },
      "file_extension": ".py",
      "mimetype": "text/x-python",
      "name": "python",
      "nbconvert_exporter": "python",
      "pygments_lexer": "ipython3",
      "version": "3.7.3"
    },
    "colab": {
      "name": "ResNet-02_EMNIST_letters_DO 0.5 + Epoch 20.ipynb",
      "provenance": [],
      "private_outputs": true,
      "collapsed_sections": []
    },
    "accelerator": "GPU"
  },
  "cells": [
    {
      "cell_type": "code",
      "metadata": {
        "id": "d8qnDQTzLT2z",
        "colab_type": "code",
        "colab": {}
      },
      "source": [
        "import tensorflow as tf\n",
        "from tensorflow import keras\n",
        "\n",
        "# Common imports\n",
        "import numpy as np\n",
        "import os\n",
        "from functools import partial\n",
        "from matplotlib import pyplot as plt\n",
        "%pylab inline\n",
        "import warnings\n",
        "warnings.filterwarnings('ignore')\n",
        "from keras.utils import np_utils\n",
        "\n",
        "np.random.seed(42)\n",
        "\n",
        "# stuff to make this work on GPUs\n",
        "from tensorflow.compat.v1 import ConfigProto\n",
        "from tensorflow.compat.v1 import InteractiveSession\n",
        "\n",
        "config = ConfigProto()\n",
        "config.gpu_options.allow_growth = True\n",
        "session = InteractiveSession(config=config)\n"
      ],
      "execution_count": null,
      "outputs": []
    },
    {
      "cell_type": "code",
      "metadata": {
        "id": "EBKlzaiPLT23",
        "colab_type": "code",
        "colab": {}
      },
      "source": [
        "!pip install emnist\n",
        "from emnist import extract_training_samples\n",
        "from emnist import extract_test_samples\n",
        "X_train, y_train = extract_training_samples('letters')\n",
        "X_test, y_test = extract_test_samples('letters')\n",
        "X_train = X_train/255.\n",
        "X_test = X_test/255.\n",
        "# jedes Pixel in allen Bildern einen Wert zwischen 0 und 1 hat\n",
        "print(X_train.shape)\n",
        "print(X_test.shape)\n",
        "# 124800 Bilder fürs Trainieren\n",
        "# 20800 Bilder fürs Testen"
      ],
      "execution_count": null,
      "outputs": []
    },
    {
      "cell_type": "code",
      "metadata": {
        "id": "0HiWMia_LT25",
        "colab_type": "code",
        "colab": {}
      },
      "source": [
        "img_index_train = 8888 # das img_index. Image ausnehmen\n",
        "img_train = X_train[img_index_train]\n",
        "img_index_test = 1888\n",
        "img_test = X_test[img_index_test]\n",
        "plt.figure(figsize=(3,8))\n",
        "plt.subplot(2, 1, 1)\n",
        "plt.imshow(img_train.reshape((28,28)), cmap='gray')\n",
        "plt.title(chr(y_train[img_index_train]+96))\n",
        "plt.subplot(2, 1, 2)\n",
        "plt.imshow(img_test.reshape((28,28)))\n",
        "plt.title(chr(y_test[img_index_test]+96))"
      ],
      "execution_count": null,
      "outputs": []
    },
    {
      "cell_type": "code",
      "metadata": {
        "id": "3jfY2lsLLT28",
        "colab_type": "code",
        "colab": {}
      },
      "source": [
        "n_train = X_train.shape[0]\n",
        "n_test = X_test.shape[0]\n",
        "image_shape = X_train[0].shape\n",
        "n_classes = len(np.unique(y_train))\n",
        "random.seed(4242)\n",
        "\n",
        "print(\"Number of Training Images =\", n_train)\n",
        "print(\"Number of Test Images =    \", n_test)\n",
        "print(\"Image Format =             \", image_shape)\n",
        "print(\"Number of Classes =        \", n_classes)"
      ],
      "execution_count": null,
      "outputs": []
    },
    {
      "cell_type": "code",
      "metadata": {
        "id": "zUtcYc6ILT2_",
        "colab_type": "code",
        "colab": {}
      },
      "source": [
        "y_train_cat = np_utils.to_categorical(y_train-1, 26)\n",
        "y_test_cat = np_utils.to_categorical(y_test-1, 26)"
      ],
      "execution_count": null,
      "outputs": []
    },
    {
      "cell_type": "code",
      "metadata": {
        "id": "x1K7vqp6LT3B",
        "colab_type": "code",
        "colab": {}
      },
      "source": [
        "X_train = X_train.astype('float32')\n",
        "X_test = X_test.astype('float32')\n",
        "print(\"Shape before = \", X_train.shape)\n",
        "X_train_reshaped = X_train.reshape(X_train.shape[0], 28, 28, 1)\n",
        "X_test_reshaped = X_test.reshape(X_test.shape[0], 28, 28, 1)\n",
        "print(\"Shape after  = \", X_train_reshaped.shape)"
      ],
      "execution_count": null,
      "outputs": []
    },
    {
      "cell_type": "code",
      "metadata": {
        "id": "V75wD1DYLT3D",
        "colab_type": "code",
        "colab": {}
      },
      "source": [
        "BATCH_SIZE = 100\n",
        "EPOCHS     = 20"
      ],
      "execution_count": null,
      "outputs": []
    },
    {
      "cell_type": "code",
      "metadata": {
        "id": "e_Z9sRLeLT3F",
        "colab_type": "code",
        "colab": {}
      },
      "source": [
        "DefaultConv2D = partial(keras.layers.Conv2D, kernel_size=3, strides=1,\n",
        "                        padding=\"SAME\", use_bias=False)\n",
        "\n",
        "class ResidualUnit(keras.layers.Layer):\n",
        "    def __init__(self, filters, strides=1, activation=\"relu\", **kwargs):\n",
        "        super().__init__(**kwargs)\n",
        "        self.activation = keras.activations.get(activation)\n",
        "        self.main_layers = [\n",
        "            DefaultConv2D(filters, strides=strides),\n",
        "            keras.layers.BatchNormalization(),\n",
        "            self.activation,\n",
        "            DefaultConv2D(filters),\n",
        "            keras.layers.BatchNormalization()]\n",
        "        self.skip_layers = []\n",
        "        if strides > 1:\n",
        "            self.skip_layers = [\n",
        "                DefaultConv2D(filters, kernel_size=1, strides=strides),\n",
        "                keras.layers.BatchNormalization()]\n",
        "\n",
        "    def call(self, inputs):\n",
        "        Z = inputs\n",
        "        for layer in self.main_layers:\n",
        "            Z = layer(Z)\n",
        "        skip_Z = inputs\n",
        "        for layer in self.skip_layers:\n",
        "            skip_Z = layer(skip_Z)\n",
        "        return self.activation(Z + skip_Z)"
      ],
      "execution_count": null,
      "outputs": []
    },
    {
      "cell_type": "code",
      "metadata": {
        "id": "OpTU9zeMLT3I",
        "colab_type": "code",
        "colab": {}
      },
      "source": [
        "model = keras.models.Sequential()\n",
        "model.add(DefaultConv2D(64, kernel_size=3, strides=1, input_shape=(28,28,1)))\n",
        "model.add(keras.layers.BatchNormalization())\n",
        "model.add(keras.layers.Activation(\"relu\"))\n",
        "model.add(keras.layers.MaxPool2D(pool_size=2, strides=2, padding=\"SAME\"))\n",
        "model.add(keras.layers.Dropout(0.5))\n",
        "prev_filters = 64\n",
        "\n",
        "for filters in [64] * 2 + [128] * 2 + [256] * 2:\n",
        "    strides = 1 if filters == prev_filters else 2\n",
        "    model.add(ResidualUnit(filters, strides=strides))\n",
        "    prev_filters = filters\n",
        "model.add(keras.layers.GlobalAvgPool2D())\n",
        "model.add(keras.layers.Flatten())\n",
        "model.add(keras.layers.Dropout(0.5))\n",
        "model.add(keras.layers.Dense(n_classes, activation=\"softmax\"))"
      ],
      "execution_count": null,
      "outputs": []
    },
    {
      "cell_type": "code",
      "metadata": {
        "id": "q9CukRmNLT3K",
        "colab_type": "code",
        "colab": {}
      },
      "source": [
        "model.summary()"
      ],
      "execution_count": null,
      "outputs": []
    },
    {
      "cell_type": "code",
      "metadata": {
        "id": "EU-ZMHiDLT3M",
        "colab_type": "code",
        "colab": {}
      },
      "source": [
        "model.compile(loss='categorical_crossentropy',\n",
        "              optimizer='adam',\n",
        "              metrics=['accuracy'])"
      ],
      "execution_count": null,
      "outputs": []
    },
    {
      "cell_type": "code",
      "metadata": {
        "id": "qgTgjX-MLT3O",
        "colab_type": "code",
        "colab": {}
      },
      "source": [
        "model.fit(X_train_reshaped, y_train_cat, \n",
        "          batch_size=BATCH_SIZE, epochs=EPOCHS, verbose=1)"
      ],
      "execution_count": null,
      "outputs": []
    },
    {
      "cell_type": "code",
      "metadata": {
        "id": "VUgC67BNLT3Q",
        "colab_type": "code",
        "colab": {}
      },
      "source": [
        "score = model.evaluate(X_test_reshaped, y_test_cat)\n",
        "\n",
        "print('Result on Test Set')\n",
        "print('Test loss:    ', score[0])\n",
        "print('Test accuracy:', score[1])"
      ],
      "execution_count": null,
      "outputs": []
    },
    {
      "cell_type": "code",
      "metadata": {
        "id": "PoE59tYbLT3S",
        "colab_type": "code",
        "colab": {}
      },
      "source": [
        "resultingClasses = np.argmax(model.predict(X_test_reshaped), axis=1)\n",
        "incorrects = np.nonzero(resultingClasses != y_test-1)\n",
        "print(\"Total number of misclassifications: \", len(incorrects[0]))"
      ],
      "execution_count": null,
      "outputs": []
    },
    {
      "cell_type": "code",
      "metadata": {
        "id": "3AL-jyT3LT3U",
        "colab_type": "code",
        "colab": {}
      },
      "source": [
        "plt.figure(figsize=(18,22))\n",
        "index = 0\n",
        "for imageNumber in incorrects[0]:\n",
        "    #print(imageNumber)\n",
        "    plt.subplot(20,20,index+1)\n",
        "    plt.imshow(X_test[imageNumber], cmap='gray')\n",
        "    plt.title(\"{} as {}\".format(chr(y_test[imageNumber]+96), chr(resultingClasses[imageNumber]+96)))\n",
        "    plt.xticks([])\n",
        "    plt.yticks([])\n",
        "    index = index + 1\n",
        "    if index >= 400:\n",
        "        break"
      ],
      "execution_count": null,
      "outputs": []
    }
  ]
}