{
 "cells": [
  {
   "cell_type": "code",
   "execution_count": 1,
   "metadata": {},
   "outputs": [],
   "source": [
    "from emnist import extract_training_samples\n",
    "from emnist import extract_test_samples"
   ]
  },
  {
   "cell_type": "code",
   "execution_count": 2,
   "metadata": {},
   "outputs": [
    {
     "name": "stdout",
     "output_type": "stream",
     "text": [
      "(124800, 28, 28)\n",
      "(20800, 28, 28)\n"
     ]
    }
   ],
   "source": [
    "X_train, y_train = extract_training_samples('letters')\n",
    "X_test, y_test = extract_test_samples('letters')\n",
    "X_train = X_train/255.\n",
    "X_test = X_test/255.\n",
    "# jedes Pixel in allen Bildern einen Wert zwischen 0 und 1 hat\n",
    "print(X_train.shape)\n",
    "print(X_test.shape)\n",
    "# 124800 Bilder fürs Trainieren\n",
    "# 20800 Bilder fürs Testen"
   ]
  },
  {
   "cell_type": "code",
   "execution_count": 3,
   "metadata": {},
   "outputs": [
    {
     "name": "stdout",
     "output_type": "stream",
     "text": [
      "Training - Der Buchstabe Label: y\n"
     ]
    },
    {
     "data": {
      "text/plain": [
       "<matplotlib.image.AxesImage at 0x7fe37ce645c0>"
      ]
     },
     "execution_count": 3,
     "metadata": {},
     "output_type": "execute_result"
    }
   ],
   "source": [
    "# Bilder von Training- und Test Datensatz zeigen \n",
    "import matplotlib.pyplot as plt\n",
    "\n",
    "img_index_train = 8888 # das 8888. Image ausnehmen\n",
    "img_train = X_train[img_index_train]\n",
    "print(\"Training - Der Buchstabe Label: \" + str(chr(y_train[img_index_train]+96)))\n",
    "\n",
    "plt.imshow(img_train.reshape((28,28)), cmap='gray')"
   ]
  },
  {
   "cell_type": "code",
   "execution_count": 4,
   "metadata": {},
   "outputs": [
    {
     "name": "stdout",
     "output_type": "stream",
     "text": [
      "Test - Das Bild zeigt: c\n"
     ]
    },
    {
     "data": {
      "text/plain": [
       "<matplotlib.image.AxesImage at 0x7fe37d63cb00>"
      ]
     },
     "execution_count": 4,
     "metadata": {},
     "output_type": "execute_result"
    },
    {
     "data": {
      "image/png": "[encoded data removed]",
      "text/plain": [
       "<Figure size 432x288 with 1 Axes>"
      ]
     },
     "metadata": {
      "needs_background": "light"
     },
     "output_type": "display_data"
    }
   ],
   "source": [
    "img_index_test = 1888\n",
    "img_test = X_test[img_index_test]\n",
    "print(\"Test - Das Bild zeigt: \" + str(chr(y_test[img_index_test]+96)))\n",
    "plt.imshow(img_test.reshape((28,28)))"
   ]
  },
  {
   "cell_type": "code",
   "execution_count": 5,
   "metadata": {
    "scrolled": true
   },
   "outputs": [
    {
     "name": "stdout",
     "output_type": "stream",
     "text": [
      "Number of Training Images = 124800\n",
      "Number of Test Images =     20800\n",
      "Image Format =              (28, 28)\n",
      "Number of Classes =         26\n"
     ]
    }
   ],
   "source": [
    "import numpy as np\n",
    "import random\n",
    "\n",
    "n_train = X_train.shape[0]\n",
    "n_test = X_test.shape[0]\n",
    "image_shape = X_train[0].shape\n",
    "n_classes = len(np.unique(y_train))\n",
    "random.seed(4242)\n",
    "\n",
    "print(\"Number of Training Images =\", n_train)\n",
    "print(\"Number of Test Images =    \", n_test)\n",
    "print(\"Image Format =             \", image_shape)\n",
    "print(\"Number of Classes =        \", n_classes)"
   ]
  },
  {
   "cell_type": "code",
   "execution_count": 6,
   "metadata": {},
   "outputs": [
    {
     "name": "stderr",
     "output_type": "stream",
     "text": [
      "Using TensorFlow backend.\n"
     ]
    }
   ],
   "source": [
    "from keras.utils import np_utils\n",
    "\n",
    "y_train_cat = np_utils.to_categorical(y_train-1, 26)\n",
    "y_test_cat = np_utils.to_categorical(y_test-1, 26)"
   ]
  },
  {
   "cell_type": "code",
   "execution_count": 7,
   "metadata": {},
   "outputs": [
    {
     "name": "stdout",
     "output_type": "stream",
     "text": [
      "Shape before =  (124800, 28, 28)\n",
      "Shape after  =  (124800, 28, 28, 1)\n"
     ]
    }
   ],
   "source": [
    "X_train = X_train.astype('float32')\n",
    "X_test = X_test.astype('float32')\n",
    "print(\"Shape before = \", X_train.shape)\n",
    "X_train_reshaped = X_train.reshape(X_train.shape[0], 28, 28, 1)\n",
    "X_test_reshaped = X_test.reshape(X_test.shape[0], 28, 28, 1)\n",
    "print(\"Shape after  = \", X_train_reshaped.shape)"
   ]
  },
  {
   "cell_type": "code",
   "execution_count": 8,
   "metadata": {},
   "outputs": [],
   "source": [
    "BATCH_SIZE = 100\n",
    "EPOCHS     = 40"
   ]
  },
  {
   "cell_type": "code",
   "execution_count": 9,
   "metadata": {},
   "outputs": [],
   "source": [
    "from keras.preprocessing.image import ImageDataGenerator\n",
    "# Preparing data generators for data augmentation\n",
    "train_datagen = ImageDataGenerator(shear_range=2, \n",
    "                                   zoom_range=0.2, \n",
    "                                   rotation_range=5, \n",
    "                                   width_shift_range=4, \n",
    "                                   height_shift_range=4, \n",
    "                                   featurewise_center=False, \n",
    "                                   samplewise_center=False, \n",
    "                                   featurewise_std_normalization=False, \n",
    "                                   samplewise_std_normalization=False)\n",
    "# fit parameters from data\n",
    "train_datagen.fit(X_train_reshaped)\n",
    "\n",
    "train_generator = train_datagen.flow(X_train_reshaped, \n",
    "                                     y=y_train_cat, \n",
    "                                     batch_size=BATCH_SIZE)"
   ]
  },
  {
   "cell_type": "code",
   "execution_count": 10,
   "metadata": {},
   "outputs": [],
   "source": [
    "import keras\n",
    "from keras import models, layers\n",
    "\n",
    "dp = 0.2\n",
    "class VGGNet(models.Sequential):\n",
    "    def __init__(self, input_shape, nb_classes):\n",
    "        super().__init__()\n",
    "        self.add(Conv2D(32, (3, 3), padding='same',input_shape=input_shape))\n",
    "        self.add(BatchNormalization())\n",
    "        self.add(Activation('relu'))\n",
    "        self.add(Conv2D(32, (3, 3), padding='same'))\n",
    "        self.add(BatchNormalization())\n",
    "        self.add(Activation('relu'))\n",
    "        self.add(MaxPooling2D(pool_size=(2, 2), strides=(2, 2)))\n",
    "        self.add(Dropout(dp))\n",
    "        self.add(Conv2D(64, (3, 3), padding='same'))\n",
    "        self.add(BatchNormalization())\n",
    "        self.add(Activation('relu'))\n",
    "        self.add(Conv2D(64, (3, 3), padding='same'))\n",
    "        self.add(BatchNormalization())\n",
    "        self.add(Activation('relu'))\n",
    "        self.add(MaxPooling2D(pool_size=(2, 2), strides=(2, 2)))\n",
    "        self.add(Dropout(dp))\n",
    "        self.add(Conv2D(128, (3, 3), padding='same'))\n",
    "        self.add(BatchNormalization())\n",
    "        self.add(Activation('relu'))\n",
    "        self.add(Conv2D(128, (3, 3), padding='same'))\n",
    "        self.add(BatchNormalization())\n",
    "        self.add(Activation('relu'))\n",
    "        self.add(MaxPooling2D(pool_size=(2, 2), strides=(2, 2)))\n",
    "        self.add(Dropout(dp))\n",
    "        #-------------------------------Fully Connected Layer----------------------------------------\n",
    "        self.add(Flatten(name='flatten'))\n",
    "        self.add(Dense(128, name='fc1'))\n",
    "        self.add(BatchNormalization())\n",
    "        self.add(Activation('relu'))\n",
    "        self.add(Dropout(dp))\n",
    "        self.add(Dense(128, name='fc2'))\n",
    "        self.add(BatchNormalization())\n",
    "        self.add(Activation('relu'))\n",
    "        self.add(Dropout(dp))\n",
    "        self.add(Dense(26, name='fc3', activation =\"softmax\"))"
   ]
  },
  {
   "cell_type": "code",
   "execution_count": 11,
   "metadata": {},
   "outputs": [
    {
     "name": "stderr",
     "output_type": "stream",
     "text": [
      "WARNING: Logging before flag parsing goes to stderr.\n",
      "W0707 21:10:40.758656 4689092032 deprecation_wrapper.py:119] From /Applications/anaconda3/lib/python3.7/site-packages/keras/backend/tensorflow_backend.py:74: The name tf.get_default_graph is deprecated. Please use tf.compat.v1.get_default_graph instead.\n",
      "\n",
      "W0707 21:10:40.770143 4689092032 deprecation_wrapper.py:119] From /Applications/anaconda3/lib/python3.7/site-packages/keras/backend/tensorflow_backend.py:517: The name tf.placeholder is deprecated. Please use tf.compat.v1.placeholder instead.\n",
      "\n",
      "W0707 21:10:40.772253 4689092032 deprecation_wrapper.py:119] From /Applications/anaconda3/lib/python3.7/site-packages/keras/backend/tensorflow_backend.py:4138: The name tf.random_uniform is deprecated. Please use tf.random.uniform instead.\n",
      "\n",
      "W0707 21:10:40.791656 4689092032 deprecation_wrapper.py:119] From /Applications/anaconda3/lib/python3.7/site-packages/keras/backend/tensorflow_backend.py:174: The name tf.get_default_session is deprecated. Please use tf.compat.v1.get_default_session instead.\n",
      "\n",
      "W0707 21:10:40.792288 4689092032 deprecation_wrapper.py:119] From /Applications/anaconda3/lib/python3.7/site-packages/keras/backend/tensorflow_backend.py:181: The name tf.ConfigProto is deprecated. Please use tf.compat.v1.ConfigProto instead.\n",
      "\n",
      "W0707 21:10:40.816360 4689092032 deprecation_wrapper.py:119] From /Applications/anaconda3/lib/python3.7/site-packages/keras/backend/tensorflow_backend.py:1834: The name tf.nn.fused_batch_norm is deprecated. Please use tf.compat.v1.nn.fused_batch_norm instead.\n",
      "\n",
      "W0707 21:10:40.930613 4689092032 deprecation_wrapper.py:119] From /Applications/anaconda3/lib/python3.7/site-packages/keras/backend/tensorflow_backend.py:3976: The name tf.nn.max_pool is deprecated. Please use tf.nn.max_pool2d instead.\n",
      "\n",
      "W0707 21:10:40.936826 4689092032 deprecation.py:506] From /Applications/anaconda3/lib/python3.7/site-packages/keras/backend/tensorflow_backend.py:3445: calling dropout (from tensorflow.python.ops.nn_ops) with keep_prob is deprecated and will be removed in a future version.\n",
      "Instructions for updating:\n",
      "Please use `rate` instead of `keep_prob`. Rate should be set to `rate = 1 - keep_prob`.\n"
     ]
    },
    {
     "name": "stdout",
     "output_type": "stream",
     "text": [
      "_________________________________________________________________\n",
      "Layer (type)                 Output Shape              Param #   \n",
      "=================================================================\n",
      "conv2d_1 (Conv2D)            (None, 28, 28, 32)        320       \n",
      "_________________________________________________________________\n",
      "batch_normalization_1 (Batch (None, 28, 28, 32)        128       \n",
      "_________________________________________________________________\n",
      "activation_1 (Activation)    (None, 28, 28, 32)        0         \n",
      "_________________________________________________________________\n",
      "conv2d_2 (Conv2D)            (None, 28, 28, 32)        9248      \n",
      "_________________________________________________________________\n",
      "batch_normalization_2 (Batch (None, 28, 28, 32)        128       \n",
      "_________________________________________________________________\n",
      "activation_2 (Activation)    (None, 28, 28, 32)        0         \n",
      "_________________________________________________________________\n",
      "max_pooling2d_1 (MaxPooling2 (None, 14, 14, 32)        0         \n",
      "_________________________________________________________________\n",
      "dropout_1 (Dropout)          (None, 14, 14, 32)        0         \n",
      "_________________________________________________________________\n",
      "conv2d_3 (Conv2D)            (None, 14, 14, 64)        18496     \n",
      "_________________________________________________________________\n",
      "batch_normalization_3 (Batch (None, 14, 14, 64)        256       \n",
      "_________________________________________________________________\n",
      "activation_3 (Activation)    (None, 14, 14, 64)        0         \n",
      "_________________________________________________________________\n",
      "conv2d_4 (Conv2D)            (None, 14, 14, 64)        36928     \n",
      "_________________________________________________________________\n",
      "batch_normalization_4 (Batch (None, 14, 14, 64)        256       \n",
      "_________________________________________________________________\n",
      "activation_4 (Activation)    (None, 14, 14, 64)        0         \n",
      "_________________________________________________________________\n",
      "max_pooling2d_2 (MaxPooling2 (None, 7, 7, 64)          0         \n",
      "_________________________________________________________________\n",
      "dropout_2 (Dropout)          (None, 7, 7, 64)          0         \n",
      "_________________________________________________________________\n",
      "conv2d_5 (Conv2D)            (None, 7, 7, 128)         73856     \n",
      "_________________________________________________________________\n",
      "batch_normalization_5 (Batch (None, 7, 7, 128)         512       \n",
      "_________________________________________________________________\n",
      "activation_5 (Activation)    (None, 7, 7, 128)         0         \n",
      "_________________________________________________________________\n",
      "conv2d_6 (Conv2D)            (None, 7, 7, 128)         147584    \n",
      "_________________________________________________________________\n",
      "batch_normalization_6 (Batch (None, 7, 7, 128)         512       \n",
      "_________________________________________________________________\n",
      "activation_6 (Activation)    (None, 7, 7, 128)         0         \n",
      "_________________________________________________________________\n",
      "max_pooling2d_3 (MaxPooling2 (None, 3, 3, 128)         0         \n",
      "_________________________________________________________________\n",
      "dropout_3 (Dropout)          (None, 3, 3, 128)         0         \n",
      "_________________________________________________________________\n",
      "flatten (Flatten)            (None, 1152)              0         \n",
      "_________________________________________________________________\n",
      "fc1 (Dense)                  (None, 128)               147584    \n",
      "_________________________________________________________________\n",
      "batch_normalization_7 (Batch (None, 128)               512       \n",
      "_________________________________________________________________\n",
      "activation_7 (Activation)    (None, 128)               0         \n",
      "_________________________________________________________________\n",
      "dropout_4 (Dropout)          (None, 128)               0         \n",
      "_________________________________________________________________\n",
      "fc2 (Dense)                  (None, 128)               16512     \n",
      "_________________________________________________________________\n",
      "batch_normalization_8 (Batch (None, 128)               512       \n",
      "_________________________________________________________________\n",
      "activation_8 (Activation)    (None, 128)               0         \n",
      "_________________________________________________________________\n",
      "dropout_5 (Dropout)          (None, 128)               0         \n",
      "_________________________________________________________________\n",
      "fc3 (Dense)                  (None, 26)                3354      \n",
      "=================================================================\n",
      "Total params: 456,698\n",
      "Trainable params: 455,290\n",
      "Non-trainable params: 1,408\n",
      "_________________________________________________________________\n"
     ]
    }
   ],
   "source": [
    "from keras.layers import Dense, Dropout, Flatten, Activation, BatchNormalization, regularizers, ELU\n",
    "from keras.layers import Conv2D, MaxPooling2D, LeakyReLU, AveragePooling2D\n",
    "\n",
    "input_shape = X_train_reshaped[0].shape\n",
    "model = VGGNet(input_shape, n_classes)\n",
    "model.summary()"
   ]
  },
  {
   "cell_type": "code",
   "execution_count": 12,
   "metadata": {},
   "outputs": [
    {
     "name": "stderr",
     "output_type": "stream",
     "text": [
      "W0707 21:10:41.485263 4689092032 deprecation_wrapper.py:119] From /Applications/anaconda3/lib/python3.7/site-packages/keras/optimizers.py:790: The name tf.train.Optimizer is deprecated. Please use tf.compat.v1.train.Optimizer instead.\n",
      "\n"
     ]
    }
   ],
   "source": [
    "model.compile(loss='categorical_crossentropy', optimizer='adam', metrics=['accuracy'])"
   ]
  },
  {
   "cell_type": "code",
   "execution_count": null,
   "metadata": {
    "scrolled": false
   },
   "outputs": [
    {
     "name": "stderr",
     "output_type": "stream",
     "text": [
      "W0707 21:10:41.598693 4689092032 deprecation.py:323] From /Applications/anaconda3/lib/python3.7/site-packages/tensorflow/python/ops/math_grad.py:1250: add_dispatch_support.<locals>.wrapper (from tensorflow.python.ops.array_ops) is deprecated and will be removed in a future version.\n",
      "Instructions for updating:\n",
      "Use tf.where in 2.0, which has the same broadcast rule as np.where\n"
     ]
    },
    {
     "name": "stdout",
     "output_type": "stream",
     "text": [
      "Epoch 1/40\n",
      "1248/1248 [==============================] - 356s 285ms/step - loss: 0.6776 - acc: 0.7934\n",
      "Epoch 2/40\n",
      "1248/1248 [==============================] - 408s 327ms/step - loss: 0.2973 - acc: 0.9023\n",
      "Epoch 3/40\n",
      "1248/1248 [==============================] - 424s 340ms/step - loss: 0.2563 - acc: 0.9148\n",
      "Epoch 4/40\n",
      "1248/1248 [==============================] - 391s 314ms/step - loss: 0.2343 - acc: 0.9216\n",
      "Epoch 5/40\n",
      "1248/1248 [==============================] - 395s 317ms/step - loss: 0.2177 - acc: 0.9262\n",
      "Epoch 6/40\n",
      "1248/1248 [==============================] - 398s 319ms/step - loss: 0.2094 - acc: 0.9292\n",
      "Epoch 7/40\n",
      " 953/1248 [=====================>........] - ETA: 1:36 - loss: 0.2009 - acc: 0.9315"
     ]
    }
   ],
   "source": [
    "# Training the model\n",
    "history = model.fit_generator(train_generator,\n",
    "                             steps_per_epoch=n_train/BATCH_SIZE,\n",
    "                             epochs=EPOCHS,\n",
    "                             verbose=1)"
   ]
  },
  {
   "cell_type": "code",
   "execution_count": null,
   "metadata": {},
   "outputs": [],
   "source": [
    "score = model.evaluate(X_test_reshaped, y_test_cat)\n",
    "\n",
    "print('Test Ergebniss')\n",
    "print('Test loss:    ', score[0])\n",
    "print('Test accuracy:', score[1])"
   ]
  },
  {
   "cell_type": "code",
   "execution_count": null,
   "metadata": {},
   "outputs": [],
   "source": [
    "resultingClasses = np.argmax(model.predict(X_test_reshaped), axis=1)\n",
    "incorrects = np.nonzero(resultingClasses != y_test-1)\n",
    "print(\"Total number of misclassifications: \", len(incorrects[0]))"
   ]
  },
  {
   "cell_type": "code",
   "execution_count": null,
   "metadata": {},
   "outputs": [],
   "source": [
    "plt.figure(figsize=(18,22))\n",
    "index = 0\n",
    "for imageNumber in incorrects[0]:\n",
    "    #print(imageNumber)\n",
    "    plt.subplot(20,20,index+1)\n",
    "    plt.imshow(X_test[imageNumber], cmap='gray')\n",
    "    plt.title(\"{} as {}\".format(chr(y_test[imageNumber]+96), chr(resultingClasses[imageNumber]+96)))\n",
    "    plt.xticks([])\n",
    "    plt.yticks([])\n",
    "    index = index + 1\n",
    "    if index >= 400:\n",
    "        break"
   ]
  },
  {
   "cell_type": "code",
   "execution_count": null,
   "metadata": {},
   "outputs": [],
   "source": []
  }
 ],
 "metadata": {
  "kernelspec": {
   "display_name": "Python 3",
   "language": "python",
   "name": "python3"
  },
  "language_info": {
   "codemirror_mode": {
    "name": "ipython",
    "version": 3
   },
   "file_extension": ".py",
   "mimetype": "text/x-python",
   "name": "python",
   "nbconvert_exporter": "python",
   "pygments_lexer": "ipython3",
   "version": "3.7.3"
  }
 },
 "nbformat": 4,
 "nbformat_minor": 2
}
