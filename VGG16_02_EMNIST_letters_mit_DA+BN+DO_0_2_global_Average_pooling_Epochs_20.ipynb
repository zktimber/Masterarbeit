{
  "nbformat": 4,
  "nbformat_minor": 0,
  "metadata": {
    "accelerator": "GPU",
    "colab": {
      "name": "VGG16_02_EMNIST_letters_mit_DA+BN+DO_0_2_global Average pooling_Epochs 20.ipynb",
      "provenance": [],
      "private_outputs": true,
      "include_colab_link": true
    },
    "kernelspec": {
      "display_name": "Python 3",
      "language": "python",
      "name": "python3"
    },
    "language_info": {
      "codemirror_mode": {
        "name": "ipython",
        "version": 3
      },
      "file_extension": ".py",
      "mimetype": "text/x-python",
      "name": "python",
      "nbconvert_exporter": "python",
      "pygments_lexer": "ipython3",
      "version": "3.7.3"
    }
  },
  "cells": [
    {
      "cell_type": "markdown",
      "metadata": {
        "id": "view-in-github",
        "colab_type": "text"
      },
      "source": [
        "<a href=\"https://colab.research.google.com/github/zktimber/Masterarbeit/blob/master/VGG16_02_EMNIST_letters_mit_DA%2BBN%2BDO_0_2_global_Average_pooling_Epochs_20.ipynb\" target=\"_parent\"><img src=\"https://colab.research.google.com/assets/colab-badge.svg\" alt=\"Open In Colab\"/></a>"
      ]
    },
    {
      "cell_type": "code",
      "metadata": {
        "colab_type": "code",
        "id": "jm4ReVrEp9zz",
        "colab": {}
      },
      "source": [
        "!pip install emnist\n",
        "from emnist import extract_training_samples\n",
        "from emnist import extract_test_samples"
      ],
      "execution_count": null,
      "outputs": []
    },
    {
      "cell_type": "code",
      "metadata": {
        "colab_type": "code",
        "id": "f6kb0MOwp9z3",
        "colab": {}
      },
      "source": [
        "X_train, y_train = extract_training_samples('letters')\n",
        "X_test, y_test = extract_test_samples('letters')\n",
        "X_train = X_train/255.\n",
        "X_test = X_test/255.\n",
        "# jedes Pixel in allen Bildern einen Wert zwischen 0 und 1 hat\n",
        "print(X_train.shape)\n",
        "print(X_test.shape)\n",
        "# 124800 Bilder fürs Trainieren\n",
        "# 20800 Bilder fürs Testen"
      ],
      "execution_count": null,
      "outputs": []
    },
    {
      "cell_type": "code",
      "metadata": {
        "colab_type": "code",
        "id": "IzxJIxGLp9z7",
        "colab": {}
      },
      "source": [
        "# Bilder von Training- und Test Datensatz zeigen \n",
        "import matplotlib.pyplot as plt\n",
        "\n",
        "img_index_train = 8888 # das 8888. Image ausnehmen\n",
        "img_train = X_train[img_index_train]\n",
        "print(\"Training - Der Buchstabe Label: \" + str(chr(y_train[img_index_train]+96)))\n",
        "\n",
        "plt.imshow(img_train.reshape((28,28)), cmap='gray')"
      ],
      "execution_count": null,
      "outputs": []
    },
    {
      "cell_type": "code",
      "metadata": {
        "colab_type": "code",
        "id": "uTdckKI8p9z_",
        "colab": {}
      },
      "source": [
        "img_index_test = 1888\n",
        "img_test = X_test[img_index_test]\n",
        "print(\"Test - Das Bild zeigt: \" + str(chr(y_test[img_index_test]+96)))\n",
        "plt.imshow(img_test.reshape((28,28)))"
      ],
      "execution_count": null,
      "outputs": []
    },
    {
      "cell_type": "code",
      "metadata": {
        "colab_type": "code",
        "id": "ZjBACtMhp90C",
        "scrolled": true,
        "colab": {}
      },
      "source": [
        "import numpy as np\n",
        "import random\n",
        "\n",
        "n_train = X_train.shape[0]\n",
        "n_test = X_test.shape[0]\n",
        "image_shape = X_train[0].shape\n",
        "n_classes = len(np.unique(y_train))\n",
        "random.seed(4242)\n",
        "\n",
        "print(\"Number of Training Images =\", n_train)\n",
        "print(\"Number of Test Images =    \", n_test)\n",
        "print(\"Image Format =             \", image_shape)\n",
        "print(\"Number of Classes =        \", n_classes)"
      ],
      "execution_count": null,
      "outputs": []
    },
    {
      "cell_type": "code",
      "metadata": {
        "colab_type": "code",
        "id": "5vAawOOTp90F",
        "colab": {}
      },
      "source": [
        "from keras.utils import np_utils\n",
        "\n",
        "y_train_cat = np_utils.to_categorical(y_train-1, 26)\n",
        "y_test_cat = np_utils.to_categorical(y_test-1, 26)"
      ],
      "execution_count": null,
      "outputs": []
    },
    {
      "cell_type": "code",
      "metadata": {
        "colab_type": "code",
        "id": "YrdY3UFGp90I",
        "colab": {}
      },
      "source": [
        "X_train = X_train.astype('float32')\n",
        "X_test = X_test.astype('float32')\n",
        "print(\"Shape before = \", X_train.shape)\n",
        "X_train_reshaped = X_train.reshape(X_train.shape[0], 28, 28, 1)\n",
        "X_test_reshaped = X_test.reshape(X_test.shape[0], 28, 28, 1)\n",
        "print(\"Shape after  = \", X_train_reshaped.shape)"
      ],
      "execution_count": null,
      "outputs": []
    },
    {
      "cell_type": "code",
      "metadata": {
        "colab_type": "code",
        "id": "_Fu2boQvp90L",
        "colab": {}
      },
      "source": [
        "BATCH_SIZE = 100\n",
        "EPOCHS     = 20"
      ],
      "execution_count": null,
      "outputs": []
    },
    {
      "cell_type": "code",
      "metadata": {
        "colab_type": "code",
        "id": "E0xALvPwp90N",
        "colab": {}
      },
      "source": [
        "from keras.preprocessing.image import ImageDataGenerator\n",
        "# Preparing data generators for data augmentation\n",
        "train_datagen = ImageDataGenerator(shear_range=2, \n",
        "                                   zoom_range=0.2, \n",
        "                                   rotation_range=5, \n",
        "                                   width_shift_range=4, \n",
        "                                   height_shift_range=4, \n",
        "                                   featurewise_center=False, \n",
        "                                   samplewise_center=False, \n",
        "                                   featurewise_std_normalization=False, \n",
        "                                   samplewise_std_normalization=False)\n",
        "# fit parameters from data\n",
        "train_datagen.fit(X_train_reshaped)\n",
        "\n",
        "train_generator = train_datagen.flow(X_train_reshaped, \n",
        "                                     y=y_train_cat, \n",
        "                                     batch_size=BATCH_SIZE)"
      ],
      "execution_count": null,
      "outputs": []
    },
    {
      "cell_type": "code",
      "metadata": {
        "colab_type": "code",
        "id": "JOYC93FGp90Q",
        "colab": {}
      },
      "source": [
        "import keras\n",
        "from keras import models, layers\n",
        "from keras.layers import ZeroPadding2D, GlobalAveragePooling2D\n",
        "\n",
        "dp = 0.2\n",
        "class VGGNet(models.Sequential):\n",
        "    def __init__(self, input_shape, n_classes):\n",
        "        super().__init__()\n",
        "        self.add(ZeroPadding2D((1,1),input_shape=input_shape))\n",
        "        self.add(Conv2D(64, (3, 3), padding='same'))\n",
        "        self.add(BatchNormalization())\n",
        "        self.add(Activation('relu'))\n",
        "        self.add(Conv2D(64, (3, 3), padding='same'))\n",
        "        self.add(BatchNormalization())\n",
        "        self.add(Activation('relu'))\n",
        "        self.add(MaxPooling2D(pool_size=(2, 2), strides=(2, 2)))\n",
        "        self.add(Dropout(dp))\n",
        "\n",
        "        self.add(ZeroPadding2D((1,1)))\n",
        "        self.add(Conv2D(128, (3, 3), padding='same'))\n",
        "        self.add(BatchNormalization())\n",
        "        self.add(Activation('relu'))\n",
        "        self.add(Conv2D(128, (3, 3), padding='same'))\n",
        "        self.add(BatchNormalization())\n",
        "        self.add(Activation('relu'))\n",
        "        self.add(MaxPooling2D(pool_size=(2, 2), strides=(2, 2)))\n",
        "        self.add(Dropout(dp))\n",
        "\n",
        "        self.add(ZeroPadding2D((1,1)))\n",
        "        self.add(Conv2D(256, (3, 3), padding='same'))\n",
        "        self.add(BatchNormalization())\n",
        "        self.add(Activation('relu'))\n",
        "        self.add(Conv2D(256, (3, 3), padding='same'))\n",
        "        self.add(BatchNormalization())\n",
        "        self.add(Activation('relu'))\n",
        "        self.add(Conv2D(256, (3, 3), padding='same'))\n",
        "        self.add(BatchNormalization())\n",
        "        self.add(Activation('relu'))\n",
        "        self.add(MaxPooling2D(pool_size=(2, 2), strides=(2, 2)))\n",
        "        self.add(Dropout(dp))\n",
        "\n",
        "        self.add(ZeroPadding2D((1,1)))\n",
        "        self.add(Conv2D(512, (3, 3), padding='same'))\n",
        "        self.add(BatchNormalization())\n",
        "        self.add(Activation('relu'))\n",
        "        self.add(Conv2D(512, (3, 3), padding='same'))\n",
        "        self.add(BatchNormalization())\n",
        "        self.add(Activation('relu'))\n",
        "        self.add(Conv2D(512, (3, 3), padding='same'))\n",
        "        self.add(BatchNormalization())\n",
        "        self.add(Activation('relu'))\n",
        "        self.add(MaxPooling2D(pool_size=(2, 2), strides=(2, 2)))\n",
        "        self.add(Dropout(dp))\n",
        "\n",
        "        self.add(ZeroPadding2D((1,1)))\n",
        "        self.add(Conv2D(512, (3, 3), padding='same'))\n",
        "        self.add(BatchNormalization())\n",
        "        self.add(Activation('relu'))\n",
        "        self.add(Conv2D(512, (3, 3), padding='same'))\n",
        "        self.add(BatchNormalization())\n",
        "        self.add(Activation('relu'))\n",
        "        self.add(Conv2D(512, (3, 3), padding='same'))\n",
        "        self.add(BatchNormalization())\n",
        "        self.add(Activation('relu'))\n",
        "        self.add(GlobalAveragePooling2D())\n",
        "        self.add(Dropout(dp))\n",
        "        #-------------------------------Fully Connected Layer----------------------------------------\n",
        "        #self.add(Flatten(name='flatten'))\n",
        "        #self.add(Dense(128, name='fc1'))\n",
        "        #self.add(BatchNormalization())\n",
        "        #self.add(Activation('relu'))\n",
        "        #self.add(Dropout(dp))\n",
        "        #self.add(Dense(128, name='fc2'))\n",
        "        #self.add(BatchNormalization())\n",
        "        #self.add(Activation('relu'))\n",
        "        #self.add(Dropout(dp))\n",
        "        self.add(Dense(26, name='fc3', activation =\"softmax\"))"
      ],
      "execution_count": null,
      "outputs": []
    },
    {
      "cell_type": "code",
      "metadata": {
        "colab_type": "code",
        "id": "PupRzpWXp90S",
        "colab": {}
      },
      "source": [
        "from keras.layers import Dense, Dropout, Flatten, Activation, BatchNormalization, ELU\n",
        "from keras.layers import Conv2D, MaxPooling2D, LeakyReLU, AveragePooling2D, GlobalAveragePooling2D\n",
        "\n",
        "input_shape = X_train_reshaped[0].shape\n",
        "model = VGGNet(input_shape, n_classes)\n",
        "model.summary()"
      ],
      "execution_count": null,
      "outputs": []
    },
    {
      "cell_type": "code",
      "metadata": {
        "colab_type": "code",
        "id": "SL118doFp90U",
        "colab": {}
      },
      "source": [
        "model.compile(loss='categorical_crossentropy', optimizer='adam', metrics=['accuracy'])"
      ],
      "execution_count": null,
      "outputs": []
    },
    {
      "cell_type": "code",
      "metadata": {
        "colab_type": "code",
        "id": "4zOWl_LZp90X",
        "scrolled": false,
        "colab": {}
      },
      "source": [
        "# Training the model\n",
        "history = model.fit_generator(train_generator,\n",
        "                             steps_per_epoch=n_train/BATCH_SIZE,\n",
        "                             epochs=EPOCHS,\n",
        "                             verbose=1)"
      ],
      "execution_count": null,
      "outputs": []
    },
    {
      "cell_type": "code",
      "metadata": {
        "colab_type": "code",
        "id": "3874a4Jvp90Z",
        "colab": {}
      },
      "source": [
        "score = model.evaluate(X_test_reshaped, y_test_cat)\n",
        "\n",
        "print('Test Ergebniss')\n",
        "print('Test loss:    ', score[0])\n",
        "print('Test accuracy:', score[1])"
      ],
      "execution_count": null,
      "outputs": []
    },
    {
      "cell_type": "code",
      "metadata": {
        "colab_type": "code",
        "id": "IzFK94VSp90b",
        "colab": {}
      },
      "source": [
        "resultingClasses = np.argmax(model.predict(X_test_reshaped), axis=1)\n",
        "incorrects = np.nonzero(resultingClasses != y_test-1)\n",
        "print(\"Total number of misclassifications: \", len(incorrects[0]))"
      ],
      "execution_count": null,
      "outputs": []
    },
    {
      "cell_type": "code",
      "metadata": {
        "colab_type": "code",
        "id": "7vyxNpt5p90d",
        "colab": {}
      },
      "source": [
        "plt.figure(figsize=(18,22))\n",
        "index = 0\n",
        "for imageNumber in incorrects[0]:\n",
        "    #print(imageNumber)\n",
        "    plt.subplot(20,20,index+1)\n",
        "    plt.imshow(X_test[imageNumber], cmap='gray')\n",
        "    plt.title(\"{} as {}\".format(chr(y_test[imageNumber]+96), chr(resultingClasses[imageNumber]+96)))\n",
        "    plt.xticks([])\n",
        "    plt.yticks([])\n",
        "    index = index + 1\n",
        "    if index >= 400:\n",
        "        break"
      ],
      "execution_count": null,
      "outputs": []
    },
    {
      "cell_type": "code",
      "metadata": {
        "colab_type": "code",
        "id": "s-uURPe5p90f",
        "colab": {}
      },
      "source": [
        ""
      ],
      "execution_count": null,
      "outputs": []
    }
  ]
}